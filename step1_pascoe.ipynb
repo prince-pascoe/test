{
 "cells": [
  {
   "cell_type": "code",
   "execution_count": 8,
   "metadata": {},
   "outputs": [
    {
     "name": "stdout",
     "output_type": "stream",
     "text": [
      "Enter value of log(T): 5\n",
      "Enter value of log(ρ): -4\n",
      "The value of log(κ) is 3.647\n"
     ]
    }
   ],
   "source": [
    "#opacity\n",
    "\n",
    "import numpy as np\n",
    "\n",
    "    #import opacity table\n",
    "oT=np.genfromtxt('opacity-table-for-models.txt',skip_header=19) \n",
    "\n",
    "    #input values\n",
    "logT = float(input('Enter value of log(T): '))\n",
    "logrho = float(input('Enter value of log(ρ): '))\n",
    "\n",
    "    #alternatively\n",
    "#logT = \n",
    "#logrho = \n",
    "\n",
    "logR=18+logrho-3*logT\n",
    "\n",
    "if logT < 3.75 or logT > 8.70: #check domain of temperature\n",
    "    print('! log(T) is out of range !')\n",
    "else:    \n",
    "    if logR < -8 or logR > 1: #check domain for density\n",
    "        print('! log(R) is out of range !')\n",
    "    else:\n",
    "        x=1\n",
    "        while logT > oT[x+1,0]: #find row\n",
    "            x=x+1\n",
    "        \n",
    "        y=1\n",
    "        while logR > oT[0,y+1]: #find column\n",
    "            y=y+1\n",
    "\n",
    "#interpolate        \n",
    "z1 = oT[x,y] + (oT[x,y+1]-oT[x,y])*(logR-oT[0,y])/(oT[0,y+1]-oT[0,y])\n",
    "z2 = oT[x+1,y] + (oT[x+1,y+1]-oT[x+1,y])*(logR-oT[0,y])/(oT[0,y+1]-oT[0,y])\n",
    "\n",
    "logkappa= z1 + (z2-z1)*(logT-oT[x,0])/(oT[x+1,0]-oT[x,0])\n",
    "\n",
    "print('The value of log(κ) is', logkappa,)\n"
   ]
  },
  {
   "cell_type": "code",
   "execution_count": 13,
   "metadata": {},
   "outputs": [
    {
     "name": "stdout",
     "output_type": "stream",
     "text": [
      "Enter value of X: .5\n",
      "Enter value of Y: .5\n",
      "Enter value of log(T): 5\n",
      "Enter value of log(P): 5\n",
      "The value of ρ is -1.3316238194216538e-08 g/cm^3\n",
      "The value of β is -1.521546666666667\n"
     ]
    }
   ],
   "source": [
    "#density and beta\n",
    "\n",
    "    #constants\n",
    "R = 8.31e7\n",
    "a = 7.56464e-15\n",
    "\n",
    "    #input variables\n",
    "X = float(input('Enter value of X: '))\n",
    "Y = float(input('Enter value of Y: '))\n",
    "logT = float(input('Enter value of log(T): '))\n",
    "logP = float(input('Enter value of log(P): '))\n",
    "\n",
    "    #alternatively\n",
    "#X = \n",
    "#Y = \n",
    "#logT = \n",
    "#logP = \n",
    "\n",
    "    #secondary variables\n",
    "P=10**logP\n",
    "T=10**logT\n",
    "Z= 1-X-Y\n",
    "\n",
    "if Z<0 or Z>1:\n",
    "    print('Invalid composition')\n",
    "else:\n",
    "    mu = 1/(2*X+3*Y/4+Z/2)\n",
    "    rho = mu*(P-a*T**4/3)/(R*T)\n",
    "    beta = R*rho*T/(P*mu)\n",
    "    \n",
    "    print('The value of ρ is', rho, 'g/cm^3')\n",
    "    print('The value of β is', beta,)"
   ]
  },
  {
   "cell_type": "code",
   "execution_count": 9,
   "metadata": {},
   "outputs": [
    {
     "name": "stdout",
     "output_type": "stream",
     "text": [
      "Enter value of X: .8\n",
      "Enter value of Y: .15\n",
      "Enter value of T: 1e7\n",
      "Enter value of ρ: 5\n",
      "The value of ε is 0.25217074539910544 erg s^-1 g^-1\n"
     ]
    }
   ],
   "source": [
    "#energy regernation\n",
    "from math import exp\n",
    "\n",
    "    #input variables\n",
    "X = float(input('Enter value of X: '))\n",
    "Y = float(input('Enter value of Y: '))\n",
    "T = float(input('Enter value of T: '))\n",
    "rho = float(input('Enter value of ρ: '))\n",
    "\n",
    "    #alternatively\n",
    "#X = \n",
    "#Y = \n",
    "#T = \n",
    "#rho = \n",
    "\n",
    "    #secondary variables\n",
    "Z=1-X-Y\n",
    "T6=T/(1e6)\n",
    "if Z<0 or Z>1:\n",
    "    print('Invalid composition')\n",
    "else:\n",
    "    epsPP = 2.38e6 * rho * X**2 * (T6)**(-2/3) * exp(-33.8/(T6**(1/3)))\n",
    "    epsCNO = 8.67e27 * rho * X* 0.7263*Z * (T6)**(-2/3) * exp(-152.28/(T6**(1/3)))\n",
    "    eps = epsPP + epsCNO\n",
    "    \n",
    "    print('The value of ε is' ,eps, 'erg s^-1 g^-1')\n",
    "\n"
   ]
  },
  {
   "cell_type": "code",
   "execution_count": 5,
   "metadata": {},
   "outputs": [
    {
     "name": "stdout",
     "output_type": "stream",
     "text": [
      "10.0\n"
     ]
    }
   ],
   "source": []
  },
  {
   "cell_type": "code",
   "execution_count": null,
   "metadata": {
    "collapsed": true
   },
   "outputs": [],
   "source": []
  }
 ],
 "metadata": {
  "kernelspec": {
   "display_name": "Python 3",
   "language": "python",
   "name": "python3"
  },
  "language_info": {
   "codemirror_mode": {
    "name": "ipython",
    "version": 3
   },
   "file_extension": ".py",
   "mimetype": "text/x-python",
   "name": "python",
   "nbconvert_exporter": "python",
   "pygments_lexer": "ipython3",
   "version": "3.6.1"
  }
 },
 "nbformat": 4,
 "nbformat_minor": 2
}
